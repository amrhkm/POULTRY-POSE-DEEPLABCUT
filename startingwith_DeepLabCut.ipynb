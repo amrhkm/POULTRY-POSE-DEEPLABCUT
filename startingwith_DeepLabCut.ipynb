{
  "nbformat": 4,
  "nbformat_minor": 0,
  "metadata": {
    "colab": {
      "name": "startingwith_DeepLabCut.ipynb",
      "provenance": [],
      "collapsed_sections": [],
      "authorship_tag": "ABX9TyN91wFUwqZnPSaSlSUP1VtR",
      "include_colab_link": true
    },
    "kernelspec": {
      "name": "python3",
      "display_name": "Python 3"
    },
    "language_info": {
      "name": "python"
    },
    "accelerator": "GPU"
  },
  "cells": [
    {
      "cell_type": "markdown",
      "metadata": {
        "id": "view-in-github",
        "colab_type": "text"
      },
      "source": [
        "<a href=\"https://colab.research.google.com/github/amrhkm/POULTRY-POSE-DEEPLABCUTV2/blob/main/startingwith_DeepLabCut.ipynb\" target=\"_parent\"><img src=\"https://colab.research.google.com/assets/colab-badge.svg\" alt=\"Open In Colab\"/></a>"
      ]
    },
    {
      "cell_type": "markdown",
      "source": [
        "**The commands here are not run as the outputs of codes are not shown, as the intention of this notebook is  to show the necessary commands to run dlc**"
      ],
      "metadata": {
        "id": "Oqn59vwws8QA"
      }
    },
    {
      "cell_type": "markdown",
      "source": [
        "** OPEN THIS NOTEBOOK IN COLAB, BEFORE CONNECTING TO RUNTIME, CHANGE RUNTIME TYPE TO GPU. GO TO RUNTIME IN THE TAB ABOVE>CHANGE RUNTIME TYPE> SELECT GPU UNDER THE HARDWARE ACCELERATOR TAB**\n",
        "\n"
      ],
      "metadata": {
        "id": "x3vAGJtatljI"
      }
    },
    {
      "cell_type": "code",
      "execution_count": null,
      "metadata": {
        "id": "7JeP6eSnypEd"
      },
      "outputs": [],
      "source": [
        "#INSTALLING DLC , MUST TO BE REINSTALLED WHEN RESTARTING RUNTIME\n",
        "!pip install deeplabcut "
      ]
    },
    {
      "cell_type": "code",
      "source": [
        "#INSTALLING OTHER DLC DEPENDENCIES , MUST TO BE REINSTALLED WHEN RESTARTING RUNTIME\n",
        "pip install opencv-python-headless==4.1.2.30 "
      ],
      "metadata": {
        "id": "GLAeDKSIgt59"
      },
      "execution_count": null,
      "outputs": []
    },
    {
      "cell_type": "code",
      "source": [
        "%tensorflow_version 1.x"
      ],
      "metadata": {
        "id": "Y2ukI3ptzP85"
      },
      "execution_count": null,
      "outputs": []
    },
    {
      "cell_type": "code",
      "source": [
        "import os\n",
        "os.environ[\"DLClight\"]=\"True\""
      ],
      "metadata": {
        "id": "605aP-frzS_9"
      },
      "execution_count": null,
      "outputs": []
    },
    {
      "cell_type": "code",
      "source": [
        "# DLC LIBRARY MUST BE IMPORTED BEFORE USE\n",
        "import deeplabcut"
      ],
      "metadata": {
        "id": "SagmIauLzVvb"
      },
      "execution_count": null,
      "outputs": []
    },
    {
      "cell_type": "code",
      "source": [
        "#connecting to google drive, where your project folder is located\n",
        "from google.colab import drive \n",
        "drive.mount('/content/drive')"
      ],
      "metadata": {
        "id": "yDMkNANYzYJw"
      },
      "execution_count": null,
      "outputs": []
    },
    {
      "cell_type": "code",
      "source": [
        "#here is where you specify the project folder\n",
        "!ls \"/content/drive/MyDrive\"\n",
        "ProjectFolderName = 'largewithaug-amir-2021-12-20' #change here!\n",
        "\n",
        "VideoType = 'mp4' "
      ],
      "metadata": {
        "id": "cRZYeSxxzYxL"
      },
      "execution_count": null,
      "outputs": []
    },
    {
      "cell_type": "code",
      "source": [
        "project_path = '/content/drive/MyDrive/'+ ProjectFolderName\n",
        "videofile_path = ['/content/drive/MyDrive/'+ProjectFolderName+'/videos/']\n",
        "path_config_file = '/content/drive/MyDrive/'+ProjectFolderName+'/config.yaml'\n",
        "\n",
        "print('NEW project_path: ' + project_path)\n",
        "print('NEW path_config_file: ' + path_config_file)\n",
        "print('NEW videofile_path: ' + videofile_path[0])"
      ],
      "metadata": {
        "id": "LCy10Yh5za6o"
      },
      "execution_count": null,
      "outputs": []
    },
    {
      "cell_type": "code",
      "source": [
        "# CHANGE EVERYTIME U START A NEW PROJECT\n",
        "!ls '/content/drive/MyDrive/largewithaug-amir-2021-12-20' \n",
        "#depending on the project folder name, this command will show you the content of the project folder"
      ],
      "metadata": {
        "id": "hFyp-NnL3VYh"
      },
      "execution_count": null,
      "outputs": []
    },
    {
      "cell_type": "markdown",
      "source": [
        "**END OF LIBRARY INSTALLATION / FILE CONFIGURATION**"
      ],
      "metadata": {
        "id": "LDrZcN5arOyM"
      }
    },
    {
      "cell_type": "markdown",
      "source": [
        "**STARTING OF DATASET SPLITTING (base on the TrainingFraction parameters stated within the config.yaml file) AND TRAINING PROCESS**"
      ],
      "metadata": {
        "id": "5OHGbQeYrycn"
      }
    },
    {
      "cell_type": "code",
      "source": [
        "#CREATE TRAINING DATASET, SPLIT INTO TRAIN AND TEST DATASET, DOWNLOAD THE PRETRAINED MODEL\n",
        "deeplabcut.create_training_dataset(path_config_file, net_type='resnet_101', augmenter_type='imgaug')"
      ],
      "metadata": {
        "id": "Jnz8tq6I3kJ0"
      },
      "execution_count": null,
      "outputs": []
    },
    {
      "cell_type": "code",
      "source": [
        "#TRAIN THE PRETRAINED MODEL WITH THE POULTRY DATASET\n",
        "deeplabcut.train_network(path_config_file, shuffle=1, displayiters=100, saveiters=100)"
      ],
      "metadata": {
        "id": "AWfwfTuC3x43"
      },
      "execution_count": null,
      "outputs": []
    },
    {
      "cell_type": "markdown",
      "source": [
        "**EVALUATION**"
      ],
      "metadata": {
        "id": "UZ0NSqWCr8WU"
      }
    },
    {
      "cell_type": "code",
      "source": [
        "%matplotlib notebook\n",
        "deeplabcut.evaluate_network(path_config_file,plotting=False)"
      ],
      "metadata": {
        "id": "lkZH7uPwb-2h"
      },
      "execution_count": null,
      "outputs": []
    }
  ]
}
